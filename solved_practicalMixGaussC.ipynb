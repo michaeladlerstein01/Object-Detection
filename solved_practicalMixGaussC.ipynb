{
 "cells": [
  {
   "cell_type": "markdown",
   "metadata": {},
   "source": [
    "# practicalMixGaussC\n",
    "\n",
    "The goal of this part of the lab is to fit a mixture of gaussians model to some multi-dimensional data. To do this, we will first generate some data from a known mixture of gaussians model and fit our own mixture of gaussians model to the generated data. The parameters from our estimated mixture of gaussians model should roughly match those of the original known model. \n",
    "\n",
    "Note that you should not use multivariate_normal.pdf for calculating likelihood.\n",
    "\n",
    "You should use this template for your code and fill in the missing \n",
    "sections marked \"TO DO.\"\n",
    "\n"
   ]
  },
  {
   "cell_type": "code",
   "execution_count": 1,
   "metadata": {},
   "outputs": [
    {
     "name": "stderr",
     "output_type": "stream",
     "text": [
      "/Users/michael_adlerstein/opt/anaconda3/lib/python3.9/site-packages/scipy/__init__.py:146: UserWarning: A NumPy version >=1.16.5 and <1.23.0 is required for this version of SciPy (detected version 1.23.4\n",
      "  warnings.warn(f\"A NumPy version >={np_minversion} and <{np_maxversion}\"\n"
     ]
    }
   ],
   "source": [
    "import os \n",
    "import numpy as np\n",
    "import matplotlib.pyplot as plt\n",
    "import scipy.io as spio\n",
    "from scipy.stats import norm \n",
    "from scipy.stats import multivariate_normal\n",
    "import time\n",
    "import sys\n",
    "\n",
    "flt_min = sys.float_info.min\n",
    "\n",
    "%matplotlib inline"
   ]
  },
  {
   "cell_type": "markdown",
   "metadata": {
    "collapsed": true
   },
   "source": [
    "## Construct Ground Truth Mixture of Gaussians Model and Plot Some Points\n",
    "\n",
    "Define some true parameters for our grounf truth mixture of $k$ Gaussians model. We will represent the \n",
    "mixtures of Gaussians as a python dictionary. The mean field is a $d \\times k$ matrix and the cov field is a \n",
    "$d \\times d \\times k$ matrix."
   ]
  },
  {
   "cell_type": "code",
   "execution_count": 2,
   "metadata": {},
   "outputs": [],
   "source": [
    "mixGaussTrue = dict()\n",
    "mixGaussTrue['k'] = 3\n",
    "mixGaussTrue['d'] = 2\n",
    "mixGaussTrue['weight'] = np.array([0.1309, 0.3966, 0.4725])\n",
    "mixGaussTrue['mean'] = np.array([[ 4.0491 , 4.8597],[ 7.7578 , 1.6335],[ 11.9945, 8.9206]]).T\n",
    "mixGaussTrue['cov'] = np.reshape([0.5, 0.25], newshape=(1,1,2))\n",
    "mixGaussTrue['cov'] = np.zeros(shape=(mixGaussTrue['d'],mixGaussTrue['d'],mixGaussTrue['k']))\n",
    "mixGaussTrue['cov'][:,:,0] = np.array([[  4.2534, 0.4791], [0.4791, 0.3522]])\n",
    "mixGaussTrue['cov'][:,:,1] = np.array([[  0.9729, 0.8723],[  0.8723,  2.6317]])\n",
    "mixGaussTrue['cov'][:,:,2] = np.array([[  0.9886, -1.2244],[ -1.2244, 3.0187]])\n",
    "\n",
    "\n"
   ]
  },
  {
   "cell_type": "markdown",
   "metadata": {
    "collapsed": true
   },
   "source": [
    "**drawEMData2d**, **sampleFromDiscrete**, **getGaussian2SD**, and **drawGaussianOutline** are helper functions."
   ]
  },
  {
   "cell_type": "code",
   "execution_count": 3,
   "metadata": {
    "scrolled": true
   },
   "outputs": [],
   "source": [
    "def sampleFromDiscrete(probDist):     \n",
    "    \"\"\"\n",
    "    Draws a random sample from a discrete probability distribution using a rejection sampling method.  \n",
    "    \n",
    "    Keyword arguments:\n",
    "    probDist -- discrete probability ditrubtion to sample from.\n",
    "    \n",
    "    Returns: \n",
    "    r -- sampled point.\n",
    "    \"\"\"\n",
    "    nIndex = len(probDist)                                                          \n",
    "    while True:                                                                            \n",
    "        #choose random index                                                               \n",
    "        r=int(np.floor(np.random.uniform()*nIndex))                                        \n",
    "        #choose random height                                                              \n",
    "        randHeight = np.random.uniform()                                                   \n",
    "        #if height is less than probability value at this point in the                     \n",
    "        # histogram then select                                                            \n",
    "        if randHeight<probDist[r]:                                                         \n",
    "            break                                                                          \n",
    "    return r                                                                               "
   ]
  },
  {
   "cell_type": "code",
   "execution_count": 4,
   "metadata": {},
   "outputs": [],
   "source": [
    "def getGaussian2SD(m,s,angle1):\n",
    "    \"\"\"\n",
    "    Find position of in xy co-ordinates at 2SD out for a certain angle.\n",
    "    \"\"\"\n",
    "  \n",
    "    if s.shape[1] == 1:\n",
    "        s = np.diag(s)\n",
    "\n",
    "    vec = np.array([np.cos(angle1), np.sin(angle1)])\n",
    "    \n",
    "    factor = 4/(vec@np.linalg.inv(s)@vec.T)\n",
    "    \n",
    "    x = np.cos(angle1) * np.sqrt(factor)\n",
    "    y = np.sin(angle1) * np.sqrt(factor)\n",
    "\n",
    "    x = x + m[0]\n",
    "    y = y + m[1]\n",
    "                \n",
    "    return x,y"
   ]
  },
  {
   "cell_type": "code",
   "execution_count": 5,
   "metadata": {},
   "outputs": [],
   "source": [
    "def drawGaussianOutline(m,s,w):\n",
    "    \"\"\"\n",
    "    Draw 2DGaussian\n",
    "    \"\"\"\n",
    "    angleInc = 0.1    \n",
    "    c = (0.9*(1-w), 0, 0)\n",
    "\n",
    "    for cAngle in np.arange(0,2*np.pi,angleInc):         \n",
    "        angle1 = cAngle\n",
    "        angle2 = cAngle+angleInc\n",
    "        x1, y1 = getGaussian2SD(m,s,angle1)\n",
    "        x2, y2 = getGaussian2SD(m,s,angle2)\n",
    "        plt.plot([x1, x2],[y1, y2],'-',linewidth=2,color=c)                 \n",
    "    return"
   ]
  },
  {
   "cell_type": "code",
   "execution_count": 6,
   "metadata": {},
   "outputs": [],
   "source": [
    "def drawEMData2d(data,mixGauss):\n",
    "    \"\"\"\n",
    "    Plot the data plot the mixtures of Gaussian model, mixGauss, on top of it.\n",
    "    \n",
    "    Keyword arguments:\n",
    "    data -- d by n matrix of data points.\n",
    "    mixGauss -- dict with mixture of gaussian information.\n",
    "    \n",
    "    \"\"\"\n",
    "    #set(gcf,'Color',[1 1 1])\n",
    "    plt.cla() \n",
    "    plt.plot(data[0,:],data[1,:],'k.')\n",
    "\n",
    "    for cGauss in range(mixGauss['k']):\n",
    "        drawGaussianOutline(mixGauss['mean'][:,cGauss],mixGauss['cov'][:,:,cGauss],mixGauss['weight'][cGauss])\n",
    "    \n",
    "    return     \n"
   ]
  },
  {
   "cell_type": "markdown",
   "metadata": {},
   "source": [
    "**TODO HERE:**\n",
    "\n",
    "Complete the TO DO in this function before moving on."
   ]
  },
  {
   "cell_type": "code",
   "execution_count": 7,
   "metadata": {},
   "outputs": [],
   "source": [
    "def mixGaussGen(mixGauss, nData):                                                                              \n",
    "    \"\"\"\n",
    "    Generates data from a d-dimensional mixture of Gaussians model. \n",
    "    \n",
    "    Keyword arguments:\n",
    "    mixGauss -- dict containing the mixture of gaussians arguments.\n",
    "    nData -- number of data points to generate.\n",
    "    \n",
    "    Returns: \n",
    "    data -- d by nData, generated data points. \n",
    "    \n",
    "    \"\"\"\n",
    "    # create space for output data                                                                               \n",
    "    data = np.zeros(shape=(mixGauss['d'], nData))                                                                            \n",
    "    # for each data point                                                                                        \n",
    "    for cData in range(nData):                                                                                   \n",
    "        # randomly choose Gaussian according to probability distributions                                        \n",
    "        h = sampleFromDiscrete(mixGauss['weight'])                                                               \n",
    "        # draw a sample from the appropriate Gaussian distribution  \n",
    "        # first sample from the covariance matrix (google how to do this - it\n",
    "        # will involve the numpy function np.linalg.cholesky().  Then add the mean vector\n",
    "        # TO DO (f)- insert data generation code here                \n",
    "        # \n",
    "\n",
    "        gaussMean = mixGauss[\"mean\"][:,h]\n",
    "        gaussCov = mixGauss[\"cov\"][:,:,h]\n",
    "\n",
    "        np.random.multivariate_normal\n",
    "        data[:, cData] = np.random.default_rng().multivariate_normal(gaussMean,gaussCov)\n",
    "                                                                                                         \n",
    "    return data"
   ]
  },
  {
   "cell_type": "markdown",
   "metadata": {},
   "source": [
    "With all the helper functions complete, we can now generate and plot some points from our model. The black points are the generated data points. The circles are what the gaussians look like."
   ]
  },
  {
   "cell_type": "code",
   "execution_count": 8,
   "metadata": {},
   "outputs": [
    {
     "data": {
      "image/png": "[encoded data removed]",
      "text/plain": [
       "<Figure size 432x288 with 1 Axes>"
      ]
     },
     "metadata": {
      "needs_background": "light"
     },
     "output_type": "display_data"
    }
   ],
   "source": [
    "#define number of samples to generate\n",
    "nData = 400;\n",
    "\n",
    "#generate data from the mixture of Gaussians\n",
    "#make sure you've filled in the routine above.\n",
    "data = mixGaussGen(mixGaussTrue,nData)\n",
    "\n",
    "#draw data, true Gaussians\n",
    "drawEMData2d(data,mixGaussTrue)"
   ]
  },
  {
   "cell_type": "markdown",
   "metadata": {
    "collapsed": true
   },
   "source": [
    "## Estimate MoG using the E-M Algorithm\n",
    "Here we want to use the E-M algorithm to fit a MoG model to our data points. \n",
    "\n",
    "**TODO HERE:** \n",
    "\n",
    "Fill out the missing parts below. \n",
    "\n",
    "The log likelihood is taken since the raw likelihood value could be too small for our machine's percision."
   ]
  },
  {
   "cell_type": "code",
   "execution_count": 9,
   "metadata": {},
   "outputs": [],
   "source": [
    "# Helper function: calculate the multivariate normal distribution pdf\n",
    "def getGaussProb(X,mean,cov):\n",
    "    nDim = len(X)\n",
    "    prop = (1/np.sqrt(((2*np.pi)**nDim)*np.linalg.det(cov)))*np.exp(-0.5*np.matmul(np.matmul((X-mean),np.linalg.inv(cov)),X-mean))\n",
    "    return prop"
   ]
  },
  {
   "cell_type": "code",
   "execution_count": 10,
   "metadata": {},
   "outputs": [],
   "source": [
    "def getMixGaussLogLike(data, mixGaussEst): \n",
    "    \"\"\"\n",
    "    Calculate the log likelihood for the whole dataset under a mixture of Gaussians model.\n",
    "    Keyword arguments:\n",
    "    data -- d by n matrix containing data points.\n",
    "    mixGaussEst -- dict containing the mixture of gaussians parameters.\n",
    "    Returns: \n",
    "    logLike -- scalar containing the log likelihood.\n",
    "    \"\"\"\n",
    "    data = np.atleast_2d(data)                                                                         \n",
    "    # find total number of data items                                                                  \n",
    "    nDims, nData = data.shape                                                                          \n",
    "    # initialize log likelihoods                                                                       \n",
    "    logLike = 0;                                                                                       \n",
    "    # run through each data item                                                                       \n",
    "    for cData in range(nData):                                                                         \n",
    "        thisData = data[:, cData]                                                                      \n",
    "        # TO DO - calculate likelihood of this data point under mixture of                         \n",
    "        # Gaussians model. Replace this                                                                \n",
    "        like = np.sum([mixGaussEst[\"weight\"][k]*getGaussProb(thisData,mixGaussEst[\"mean\"][:,k], mixGaussEst[\"cov\"][:,:,k]) for k in range(mixGaussEst['k'])])\n",
    "        # add to total log like                                                                        \n",
    "        logLike = logLike + np.log(like)                                                                                                                                                                \n",
    "    return  logLike.item()                                                                                                                                                                           "
   ]
  },
  {
   "cell_type": "markdown",
   "metadata": {
    "collapsed": true
   },
   "source": [
    "**TODO HERE:** \n",
    "\n",
    "Fill out the missing parts below. "
   ]
  },
  {
   "cell_type": "code",
   "execution_count": 11,
   "metadata": {},
   "outputs": [],
   "source": [
    "def fitMixGauss(data, k):\n",
    "    \"\"\"\n",
    "    Estimate a k MoG model that would fit the data. Incremently plots the outcome.\n",
    "               \n",
    "    \n",
    "    Keyword arguments:\n",
    "    data -- d by n matrix containing data points.\n",
    "    k -- scalar representing the number of gaussians to use in the MoG model.\n",
    "    \n",
    "    Returns: \n",
    "    mixGaussEst -- dict containing the estimated MoG parameters.\n",
    "    \n",
    "    \"\"\"\n",
    "    \n",
    "    #     MAIN E-M ROUTINE  \n",
    "    #     In the E-M algorithm, we calculate a complete posterior distribution over                                  \n",
    "    #     the (nData) hidden variables in the E-Step.  \n",
    "    #     In the M-Step, we update the parameters of the Gaussians (mean, cov, w).   \n",
    "    \n",
    "    nDims, nData = data.shape\n",
    "\n",
    "\n",
    "    postHidden = np.zeros(shape=(k, nData))\n",
    "\n",
    "    # we will initialize the values to random values\n",
    "    mixGaussEst = dict()\n",
    "    mixGaussEst['d'] = nDims\n",
    "    mixGaussEst['k'] = k\n",
    "    mixGaussEst['weight'] = (1 / k) * np.ones(shape=(k))\n",
    "    mixGaussEst['mean'] = 2 * np.random.randn(nDims, k)\n",
    "    mixGaussEst['cov'] = np.zeros(shape=(nDims, nDims, k))\n",
    "    for cGauss in range(k):\n",
    "        mixGaussEst['cov'][:, :, cGauss] = 2.5 + 1.5 * np.random.uniform() * np.eye(nDims)\n",
    "        \n",
    "    # calculate current likelihood\n",
    "    # TO DO - fill in this routine\n",
    "    logLike = getMixGaussLogLike(data, mixGaussEst)\n",
    "    print('Log Likelihood Iter 0 : {:4.3f}\\n'.format(logLike))\n",
    "\n",
    "    nIter = 30;\n",
    "\n",
    "    logLikeVec = np.zeros(shape=(2 * nIter))\n",
    "    boundVec = np.zeros(shape=(2 * nIter))\n",
    "\n",
    "    fig, ax = plt.subplots(1, 1)\n",
    "\n",
    "    for cIter in range(nIter):\n",
    "\n",
    "        # ===================== =====================\n",
    "        # Expectation step\n",
    "        # ===================== =====================\n",
    "\n",
    "        for cData in range(nData):\n",
    "            # TO DO (g) : fill in column of 'hidden' - calculate posterior probability that\n",
    "            # this data point came from each of the Gaussians\n",
    "            # replace this:\n",
    "\n",
    "            l = [mixGaussEst['weight'][k_idx]*getGaussProb(X=data[:,cData],mean=mixGaussEst['mean'][:,k_idx],cov=mixGaussEst['cov'][:,:,k_idx]) for k_idx in range(k)]\n",
    "            postHidden[:, cData] = [l[k_idx]/np.sum(l) for k_idx in range(k)] #This is our r_ik\n",
    "\n",
    "            #calculate the responsbility for the current weights of the itration. \n",
    "\n",
    "        # ===================== =====================\n",
    "        # Maximization Step\n",
    "        # ===================== =====================\n",
    "        # for each constituent Gaussian\n",
    "        for cGauss in range(k):\n",
    "            # TO DO (h):  Update weighting parameters mixGauss.weight based on the total\n",
    "            # posterior probability associated with each Gaussian. Replace this:\n",
    "            mixGaussEst['weight'][cGauss] = np.sum([postHidden[cGauss,cData]/np.sum(postHidden) for cData in range(nData)])\n",
    "            \n",
    "            \n",
    "            # TO DO (i):  Update mean parameters mixGauss.mean by weighted average\n",
    "            # where weights are given by posterior probability associated with\n",
    "            # Gaussian.  Replace this:\n",
    "            mixGaussEst['mean'][:,cGauss] = np.sum([postHidden[cGauss,cData]*data[:,cData] for cData in range(nData)], axis=0)/np.sum(postHidden[cGauss,:])\n",
    "            \n",
    "            \n",
    "            # TO DO (j):  Update covarance parameter based on weighted average of\n",
    "            # square distance from update mean, where weights are given by\n",
    "            # posterior probability associated with Gaussian\n",
    "            mixGaussEst['cov'][:,:,cGauss] = np.sum([postHidden[cGauss,cData]*np.matmul((data[:,cData]-mixGaussEst['mean'][:,cGauss]).reshape(2,1),(data[:,cData]-mixGaussEst['mean'][:,cGauss]).reshape(1,2)) for cData in range (nData)], axis=0)/np.sum(postHidden[cGauss,:])\n",
    "\n",
    "        #print(f\"weight: {mixGaussEst['weight']}\\nmean: {mixGaussEst['mean']}\\ncov: {mixGaussEst['cov']}\")\n",
    "            \n",
    "            \n",
    "            # draw the new solution\n",
    "        drawEMData2d(data, mixGaussEst)\n",
    "        time.sleep(0.7)\n",
    "        fig.canvas.draw()\n",
    "\n",
    "        # calculate the log likelihood\n",
    "        logLike = getMixGaussLogLike(data, mixGaussEst)\n",
    "        print('Log Likelihood After Iter {} : {:4.3f}\\n'.format(cIter, logLike))\n",
    "\n",
    "\n",
    "    return mixGaussEst"
   ]
  },
  {
   "cell_type": "markdown",
   "metadata": {},
   "source": [
    "### Time to put it all together!\n",
    "\n",
    "Make sure you've filled all the TO DOs above! "
   ]
  },
  {
   "cell_type": "code",
   "execution_count": 12,
   "metadata": {},
   "outputs": [
    {
     "name": "stdout",
     "output_type": "stream",
     "text": [
      "(2, 400)\n",
      "Log Likelihood Iter 0 : -5872.234\n",
      "\n",
      "Log Likelihood After Iter 0 : -1934.674\n",
      "\n",
      "Log Likelihood After Iter 1 : -1921.251\n",
      "\n",
      "Log Likelihood After Iter 2 : -1918.038\n",
      "\n",
      "Log Likelihood After Iter 3 : -1916.740\n",
      "\n",
      "Log Likelihood After Iter 4 : -1915.014\n",
      "\n",
      "Log Likelihood After Iter 5 : -1911.596\n",
      "\n",
      "Log Likelihood After Iter 6 : -1903.074\n",
      "\n",
      "Log Likelihood After Iter 7 : -1886.760\n",
      "\n",
      "Log Likelihood After Iter 8 : -1861.108\n",
      "\n",
      "Log Likelihood After Iter 9 : -1803.548\n",
      "\n",
      "Log Likelihood After Iter 10 : -1725.252\n",
      "\n",
      "Log Likelihood After Iter 11 : -1701.955\n",
      "\n",
      "Log Likelihood After Iter 12 : -1680.717\n",
      "\n",
      "Log Likelihood After Iter 13 : -1657.565\n",
      "\n",
      "Log Likelihood After Iter 14 : -1628.419\n",
      "\n",
      "Log Likelihood After Iter 15 : -1618.719\n",
      "\n",
      "Log Likelihood After Iter 16 : -1618.237\n",
      "\n",
      "Log Likelihood After Iter 17 : -1618.176\n",
      "\n",
      "Log Likelihood After Iter 18 : -1618.157\n",
      "\n",
      "Log Likelihood After Iter 19 : -1618.150\n",
      "\n",
      "Log Likelihood After Iter 20 : -1618.147\n",
      "\n",
      "Log Likelihood After Iter 21 : -1618.145\n",
      "\n",
      "Log Likelihood After Iter 22 : -1618.145\n",
      "\n",
      "Log Likelihood After Iter 23 : -1618.144\n",
      "\n",
      "Log Likelihood After Iter 24 : -1618.144\n",
      "\n",
      "Log Likelihood After Iter 25 : -1618.144\n",
      "\n",
      "Log Likelihood After Iter 26 : -1618.144\n",
      "\n",
      "Log Likelihood After Iter 27 : -1618.144\n",
      "\n",
      "Log Likelihood After Iter 28 : -1618.144\n",
      "\n",
      "Log Likelihood After Iter 29 : -1618.144\n",
      "\n"
     ]
    },
    {
     "data": {
      "image/png": "[encoded data removed]",
      "text/plain": [
       "<Figure size 432x288 with 1 Axes>"
      ]
     },
     "metadata": {
      "needs_background": "light"
     },
     "output_type": "display_data"
    }
   ],
   "source": [
    "#define number of components to estimate\n",
    "nGaussEst = 3\n",
    "print(np.shape(data))\n",
    "#fit mixture of Gaussians (Pretend someone handed you some data. Now what?)\n",
    "#TO DO fill in this routine (below)\n",
    "mixGaussEst = fitMixGauss(data,nGaussEst);"
   ]
  },
  {
   "cell_type": "code",
   "execution_count": null,
   "metadata": {},
   "outputs": [],
   "source": []
  }
 ],
 "metadata": {
  "kernelspec": {
   "display_name": "Python 3.9.12 ('base')",
   "language": "python",
   "name": "python3"
  },
  "language_info": {
   "codemirror_mode": {
    "name": "ipython",
    "version": 3
   },
   "file_extension": ".py",
   "mimetype": "text/x-python",
   "name": "python",
   "nbconvert_exporter": "python",
   "pygments_lexer": "ipython3",
   "version": "3.9.12"
  },
  "vscode": {
   "interpreter": {
    "hash": "e7d78cd7d25f8b32119b4061d7297db109764d73d5aaa7cddff2553acfa1e65a"
   }
  }
 },
 "nbformat": 4,
 "nbformat_minor": 2
}
